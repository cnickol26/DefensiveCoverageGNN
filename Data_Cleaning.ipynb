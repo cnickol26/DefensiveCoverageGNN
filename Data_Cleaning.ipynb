{
 "cells": [
  {
   "cell_type": "markdown",
   "metadata": {
    "id": "YXAfqbCTIDKL"
   },
   "source": [
    "# Matt Manner, Connor Nickol, Josh Gen\n",
    "## 3 Apr 23"
   ]
  },
  {
   "cell_type": "markdown",
   "metadata": {
    "id": "nKlX1A_RIMbU"
   },
   "source": [
    "Importing packages"
   ]
  },
  {
   "cell_type": "code",
   "execution_count": 1,
   "metadata": {
    "id": "0mWfFZ3qCaLq"
   },
   "outputs": [],
   "source": [
    "import pandas as pd\n",
    "import numpy as np\n",
    "import os\n",
    "from sklearn.preprocessing import OneHotEncoder\n",
    "#import torch"
   ]
  },
  {
   "cell_type": "markdown",
   "metadata": {
    "id": "4V0ikPM6IULu"
   },
   "source": [
    "Importing data"
   ]
  },
  {
   "cell_type": "code",
   "execution_count": 2,
   "metadata": {
    "id": "uc8RefLPByQG"
   },
   "outputs": [],
   "source": [
    "players = pd.read_csv('players.csv')#'/content/drive/MyDrive/nfl-big-data-bowl-2023/players.csv')\n",
    "plays = pd.read_csv('plays.csv')#'/content/drive/MyDrive/nfl-big-data-bowl-2023/plays.csv')\n",
    "locations = pd.DataFrame()\n",
    "for i in range(1,8):\n",
    "    url = 'week'+str(i)+'.csv' #/content/drive/MyDrive/nfl-big-data-bowl-2023/week\n",
    "    week_data = pd.read_csv(url)\n",
    "    locations = pd.concat([locations, week_data])"
   ]
  },
  {
   "cell_type": "code",
   "execution_count": 3,
   "metadata": {},
   "outputs": [],
   "source": [
    "games = pd.read_csv('games.csv')"
   ]
  },
  {
   "cell_type": "code",
   "execution_count": 4,
   "metadata": {},
   "outputs": [
    {
     "data": {
      "text/html": [
       "<div>\n",
       "<style scoped>\n",
       "    .dataframe tbody tr th:only-of-type {\n",
       "        vertical-align: middle;\n",
       "    }\n",
       "\n",
       "    .dataframe tbody tr th {\n",
       "        vertical-align: top;\n",
       "    }\n",
       "\n",
       "    .dataframe thead th {\n",
       "        text-align: right;\n",
       "    }\n",
       "</style>\n",
       "<table border=\"1\" class=\"dataframe\">\n",
       "  <thead>\n",
       "    <tr style=\"text-align: right;\">\n",
       "      <th></th>\n",
       "      <th>gameId</th>\n",
       "      <th>season</th>\n",
       "      <th>week</th>\n",
       "      <th>gameDate</th>\n",
       "      <th>gameTimeEastern</th>\n",
       "      <th>homeTeamAbbr</th>\n",
       "      <th>visitorTeamAbbr</th>\n",
       "    </tr>\n",
       "  </thead>\n",
       "  <tbody>\n",
       "    <tr>\n",
       "      <th>0</th>\n",
       "      <td>2021090900</td>\n",
       "      <td>2021</td>\n",
       "      <td>1</td>\n",
       "      <td>09/09/2021</td>\n",
       "      <td>20:20:00</td>\n",
       "      <td>TB</td>\n",
       "      <td>DAL</td>\n",
       "    </tr>\n",
       "    <tr>\n",
       "      <th>1</th>\n",
       "      <td>2021091200</td>\n",
       "      <td>2021</td>\n",
       "      <td>1</td>\n",
       "      <td>09/12/2021</td>\n",
       "      <td>13:00:00</td>\n",
       "      <td>ATL</td>\n",
       "      <td>PHI</td>\n",
       "    </tr>\n",
       "    <tr>\n",
       "      <th>2</th>\n",
       "      <td>2021091201</td>\n",
       "      <td>2021</td>\n",
       "      <td>1</td>\n",
       "      <td>09/12/2021</td>\n",
       "      <td>13:00:00</td>\n",
       "      <td>BUF</td>\n",
       "      <td>PIT</td>\n",
       "    </tr>\n",
       "    <tr>\n",
       "      <th>3</th>\n",
       "      <td>2021091202</td>\n",
       "      <td>2021</td>\n",
       "      <td>1</td>\n",
       "      <td>09/12/2021</td>\n",
       "      <td>13:00:00</td>\n",
       "      <td>CAR</td>\n",
       "      <td>NYJ</td>\n",
       "    </tr>\n",
       "    <tr>\n",
       "      <th>4</th>\n",
       "      <td>2021091203</td>\n",
       "      <td>2021</td>\n",
       "      <td>1</td>\n",
       "      <td>09/12/2021</td>\n",
       "      <td>13:00:00</td>\n",
       "      <td>CIN</td>\n",
       "      <td>MIN</td>\n",
       "    </tr>\n",
       "  </tbody>\n",
       "</table>\n",
       "</div>"
      ],
      "text/plain": [
       "       gameId  season  week    gameDate gameTimeEastern homeTeamAbbr  \\\n",
       "0  2021090900    2021     1  09/09/2021        20:20:00           TB   \n",
       "1  2021091200    2021     1  09/12/2021        13:00:00          ATL   \n",
       "2  2021091201    2021     1  09/12/2021        13:00:00          BUF   \n",
       "3  2021091202    2021     1  09/12/2021        13:00:00          CAR   \n",
       "4  2021091203    2021     1  09/12/2021        13:00:00          CIN   \n",
       "\n",
       "  visitorTeamAbbr  \n",
       "0             DAL  \n",
       "1             PHI  \n",
       "2             PIT  \n",
       "3             NYJ  \n",
       "4             MIN  "
      ]
     },
     "execution_count": 4,
     "metadata": {},
     "output_type": "execute_result"
    }
   ],
   "source": [
    "games.head()"
   ]
  },
  {
   "cell_type": "code",
   "execution_count": 5,
   "metadata": {},
   "outputs": [],
   "source": [
    "games = games[['gameId','homeTeamAbbr']]"
   ]
  },
  {
   "cell_type": "code",
   "execution_count": 6,
   "metadata": {
    "colab": {
     "base_uri": "https://localhost:8080/",
     "height": 419
    },
    "id": "78_yE1rxJNwT",
    "outputId": "2efd3759-ff8f-4519-9e57-ff12d7ac1bbb"
   },
   "outputs": [],
   "source": [
    "locations = locations.merge(games, on = 'gameId', how = 'left')"
   ]
  },
  {
   "cell_type": "code",
   "execution_count": 7,
   "metadata": {
    "id": "lwgsLHlZJfCc"
   },
   "outputs": [],
   "source": [
    "pff = pd.read_csv('pffScoutingData.csv')"
   ]
  },
  {
   "cell_type": "code",
   "execution_count": 8,
   "metadata": {
    "id": "LAEGM3Bwr0oj"
   },
   "outputs": [],
   "source": [
    "locations['uniqueplayId'] = locations['gameId'].astype(str) + locations['playId'].astype(str)"
   ]
  },
  {
   "cell_type": "markdown",
   "metadata": {
    "id": "bDxTU5yVpy9q"
   },
   "source": [
    "Need to make an adjacency matrix (nxnxt), edge feature matrix (exfxt), node feature matrix (nxfxt)"
   ]
  },
  {
   "cell_type": "code",
   "execution_count": 9,
   "metadata": {},
   "outputs": [],
   "source": [
    "positions = ['QB','FB-L', 'FB', 'FB-R', 'HB-R', 'HB-L', 'HB', 'LWR', 'RWR','SLWR','SRoWR',\n",
    "             'SRiWR', 'SRWR','SLoWR', 'SLiWR','TE-R','TE-L','TE-oR', 'TE-iR',\n",
    "             'TE-oL','TE-iL', 'LT', 'LG','C','RG','RT', 'LE','LEO',\n",
    "             'DLT', 'NLT','NT','NRT','DRT','RE','REO','LLB', 'LOLB', 'LILB', \n",
    "             'MLB', 'RILB','RLB', 'ROLB', 'LCB', 'SCBiL','SCBoL', 'SCBL',\n",
    "             'SCBoR', 'SCBiR', 'SCBR', 'SSR','RCB','FS', 'FSR', 'FSL', 'SSL',  'SS', 'football']"
   ]
  },
  {
   "cell_type": "code",
   "execution_count": 10,
   "metadata": {},
   "outputs": [
    {
     "data": {
      "text/plain": [
       "Index(['gameId', 'playId', 'nflId', 'frameId', 'time', 'jerseyNumber', 'team',\n",
       "       'playDirection', 'x', 'y', 's', 'a', 'dis', 'o', 'dir', 'event',\n",
       "       'homeTeamAbbr', 'uniqueplayId'],\n",
       "      dtype='object')"
      ]
     },
     "execution_count": 10,
     "metadata": {},
     "output_type": "execute_result"
    }
   ],
   "source": [
    "locations.columns"
   ]
  },
  {
   "cell_type": "markdown",
   "metadata": {
    "id": "RkxFK1UhHpFI"
   },
   "source": [
    "## For the edge matrix, we need to figure out how to make it number of edges by number of features keeping track of who is connected to who"
   ]
  },
  {
   "cell_type": "markdown",
   "metadata": {
    "id": "6SzNzaxTIbfW"
   },
   "source": [
    "## Working on the feature matrix. Things to implement:\n",
    "- Cut the play after 3? seconds\n",
    "- Corner orientation or maybe all defensive player orientation\n",
    "- Yard line, down and distance, score margin, quarter all possible additions\n",
    "- Personel package on the field? "
   ]
  },
  {
   "cell_type": "code",
   "execution_count": 11,
   "metadata": {
    "id": "Gvxd6BhzIc9g"
   },
   "outputs": [],
   "source": [
    "## Standardizing the ball to always be the same spot\n",
    "\n",
    "## Filter out some of the coverages\n",
    "plays = plays[plays.pff_passCoverage != 'Bracket']\n",
    "plays = plays[plays.pff_passCoverage != 'Goal Line']\n",
    "plays = plays[plays.pff_passCoverage != 'Miscellaneous']\n",
    "plays = plays[plays.pff_passCoverage != 'Prevent']\n",
    "plays = plays[plays.pff_passCoverage != 'Red Zone']\n",
    "\n",
    "plays['uniqueplayId'] = plays['gameId'].astype(str) + plays['playId'].astype(str)\n",
    "\n",
    "# merge the locational dataset with the plays dataset to remove these coverages in locational dataset\n",
    "locations = plays.merge(locations, on='uniqueplayId')"
   ]
  },
  {
   "cell_type": "code",
   "execution_count": 12,
   "metadata": {},
   "outputs": [],
   "source": [
    "# Dropping all of the rows that occur before the snap of the ball\n",
    "snap_time = locations.loc[locations['event'] == 'ball_snap',['uniqueplayId', 'frameId']].rename(columns = {'frameId':'ball_snap_frame'})\n",
    "snap_time_unique = snap_time.drop_duplicates(subset = 'uniqueplayId')"
   ]
  },
  {
   "cell_type": "code",
   "execution_count": 13,
   "metadata": {},
   "outputs": [
    {
     "data": {
      "text/html": [
       "<div>\n",
       "<style scoped>\n",
       "    .dataframe tbody tr th:only-of-type {\n",
       "        vertical-align: middle;\n",
       "    }\n",
       "\n",
       "    .dataframe tbody tr th {\n",
       "        vertical-align: top;\n",
       "    }\n",
       "\n",
       "    .dataframe thead th {\n",
       "        text-align: right;\n",
       "    }\n",
       "</style>\n",
       "<table border=\"1\" class=\"dataframe\">\n",
       "  <thead>\n",
       "    <tr style=\"text-align: right;\">\n",
       "      <th></th>\n",
       "      <th>gameId_x</th>\n",
       "      <th>playId_x</th>\n",
       "      <th>playDescription</th>\n",
       "      <th>quarter</th>\n",
       "      <th>down</th>\n",
       "      <th>yardsToGo</th>\n",
       "      <th>possessionTeam</th>\n",
       "      <th>defensiveTeam</th>\n",
       "      <th>yardlineSide</th>\n",
       "      <th>yardlineNumber</th>\n",
       "      <th>...</th>\n",
       "      <th>x</th>\n",
       "      <th>y</th>\n",
       "      <th>s</th>\n",
       "      <th>a</th>\n",
       "      <th>dis</th>\n",
       "      <th>o</th>\n",
       "      <th>dir</th>\n",
       "      <th>event</th>\n",
       "      <th>homeTeamAbbr</th>\n",
       "      <th>ball_snap_frame</th>\n",
       "    </tr>\n",
       "  </thead>\n",
       "  <tbody>\n",
       "    <tr>\n",
       "      <th>0</th>\n",
       "      <td>2021090900</td>\n",
       "      <td>97</td>\n",
       "      <td>(13:33) (Shotgun) T.Brady pass incomplete deep...</td>\n",
       "      <td>1</td>\n",
       "      <td>3</td>\n",
       "      <td>2</td>\n",
       "      <td>TB</td>\n",
       "      <td>DAL</td>\n",
       "      <td>TB</td>\n",
       "      <td>33</td>\n",
       "      <td>...</td>\n",
       "      <td>37.77</td>\n",
       "      <td>24.22</td>\n",
       "      <td>0.29</td>\n",
       "      <td>0.30</td>\n",
       "      <td>0.03</td>\n",
       "      <td>165.16</td>\n",
       "      <td>84.99</td>\n",
       "      <td>None</td>\n",
       "      <td>TB</td>\n",
       "      <td>6.0</td>\n",
       "    </tr>\n",
       "    <tr>\n",
       "      <th>1</th>\n",
       "      <td>2021090900</td>\n",
       "      <td>97</td>\n",
       "      <td>(13:33) (Shotgun) T.Brady pass incomplete deep...</td>\n",
       "      <td>1</td>\n",
       "      <td>3</td>\n",
       "      <td>2</td>\n",
       "      <td>TB</td>\n",
       "      <td>DAL</td>\n",
       "      <td>TB</td>\n",
       "      <td>33</td>\n",
       "      <td>...</td>\n",
       "      <td>37.78</td>\n",
       "      <td>24.22</td>\n",
       "      <td>0.23</td>\n",
       "      <td>0.11</td>\n",
       "      <td>0.02</td>\n",
       "      <td>164.33</td>\n",
       "      <td>92.87</td>\n",
       "      <td>None</td>\n",
       "      <td>TB</td>\n",
       "      <td>6.0</td>\n",
       "    </tr>\n",
       "    <tr>\n",
       "      <th>2</th>\n",
       "      <td>2021090900</td>\n",
       "      <td>97</td>\n",
       "      <td>(13:33) (Shotgun) T.Brady pass incomplete deep...</td>\n",
       "      <td>1</td>\n",
       "      <td>3</td>\n",
       "      <td>2</td>\n",
       "      <td>TB</td>\n",
       "      <td>DAL</td>\n",
       "      <td>TB</td>\n",
       "      <td>33</td>\n",
       "      <td>...</td>\n",
       "      <td>37.78</td>\n",
       "      <td>24.24</td>\n",
       "      <td>0.16</td>\n",
       "      <td>0.10</td>\n",
       "      <td>0.01</td>\n",
       "      <td>160.24</td>\n",
       "      <td>68.55</td>\n",
       "      <td>None</td>\n",
       "      <td>TB</td>\n",
       "      <td>6.0</td>\n",
       "    </tr>\n",
       "    <tr>\n",
       "      <th>3</th>\n",
       "      <td>2021090900</td>\n",
       "      <td>97</td>\n",
       "      <td>(13:33) (Shotgun) T.Brady pass incomplete deep...</td>\n",
       "      <td>1</td>\n",
       "      <td>3</td>\n",
       "      <td>2</td>\n",
       "      <td>TB</td>\n",
       "      <td>DAL</td>\n",
       "      <td>TB</td>\n",
       "      <td>33</td>\n",
       "      <td>...</td>\n",
       "      <td>37.73</td>\n",
       "      <td>24.25</td>\n",
       "      <td>0.15</td>\n",
       "      <td>0.24</td>\n",
       "      <td>0.06</td>\n",
       "      <td>152.13</td>\n",
       "      <td>296.85</td>\n",
       "      <td>None</td>\n",
       "      <td>TB</td>\n",
       "      <td>6.0</td>\n",
       "    </tr>\n",
       "    <tr>\n",
       "      <th>4</th>\n",
       "      <td>2021090900</td>\n",
       "      <td>97</td>\n",
       "      <td>(13:33) (Shotgun) T.Brady pass incomplete deep...</td>\n",
       "      <td>1</td>\n",
       "      <td>3</td>\n",
       "      <td>2</td>\n",
       "      <td>TB</td>\n",
       "      <td>DAL</td>\n",
       "      <td>TB</td>\n",
       "      <td>33</td>\n",
       "      <td>...</td>\n",
       "      <td>37.69</td>\n",
       "      <td>24.26</td>\n",
       "      <td>0.25</td>\n",
       "      <td>0.18</td>\n",
       "      <td>0.04</td>\n",
       "      <td>148.33</td>\n",
       "      <td>287.55</td>\n",
       "      <td>None</td>\n",
       "      <td>TB</td>\n",
       "      <td>6.0</td>\n",
       "    </tr>\n",
       "    <tr>\n",
       "      <th>...</th>\n",
       "      <td>...</td>\n",
       "      <td>...</td>\n",
       "      <td>...</td>\n",
       "      <td>...</td>\n",
       "      <td>...</td>\n",
       "      <td>...</td>\n",
       "      <td>...</td>\n",
       "      <td>...</td>\n",
       "      <td>...</td>\n",
       "      <td>...</td>\n",
       "      <td>...</td>\n",
       "      <td>...</td>\n",
       "      <td>...</td>\n",
       "      <td>...</td>\n",
       "      <td>...</td>\n",
       "      <td>...</td>\n",
       "      <td>...</td>\n",
       "      <td>...</td>\n",
       "      <td>...</td>\n",
       "      <td>...</td>\n",
       "      <td>...</td>\n",
       "    </tr>\n",
       "    <tr>\n",
       "      <th>6891830</th>\n",
       "      <td>2021102500</td>\n",
       "      <td>3945</td>\n",
       "      <td>(1:23) (No Huddle, Shotgun) G.Smith sacked at ...</td>\n",
       "      <td>4</td>\n",
       "      <td>3</td>\n",
       "      <td>18</td>\n",
       "      <td>SEA</td>\n",
       "      <td>NO</td>\n",
       "      <td>SEA</td>\n",
       "      <td>17</td>\n",
       "      <td>...</td>\n",
       "      <td>103.84</td>\n",
       "      <td>18.54</td>\n",
       "      <td>4.19</td>\n",
       "      <td>3.60</td>\n",
       "      <td>0.44</td>\n",
       "      <td>NaN</td>\n",
       "      <td>NaN</td>\n",
       "      <td>None</td>\n",
       "      <td>SEA</td>\n",
       "      <td>7.0</td>\n",
       "    </tr>\n",
       "    <tr>\n",
       "      <th>6891831</th>\n",
       "      <td>2021102500</td>\n",
       "      <td>3945</td>\n",
       "      <td>(1:23) (No Huddle, Shotgun) G.Smith sacked at ...</td>\n",
       "      <td>4</td>\n",
       "      <td>3</td>\n",
       "      <td>18</td>\n",
       "      <td>SEA</td>\n",
       "      <td>NO</td>\n",
       "      <td>SEA</td>\n",
       "      <td>17</td>\n",
       "      <td>...</td>\n",
       "      <td>103.74</td>\n",
       "      <td>18.24</td>\n",
       "      <td>3.39</td>\n",
       "      <td>4.45</td>\n",
       "      <td>0.32</td>\n",
       "      <td>NaN</td>\n",
       "      <td>NaN</td>\n",
       "      <td>None</td>\n",
       "      <td>SEA</td>\n",
       "      <td>7.0</td>\n",
       "    </tr>\n",
       "    <tr>\n",
       "      <th>6891832</th>\n",
       "      <td>2021102500</td>\n",
       "      <td>3945</td>\n",
       "      <td>(1:23) (No Huddle, Shotgun) G.Smith sacked at ...</td>\n",
       "      <td>4</td>\n",
       "      <td>3</td>\n",
       "      <td>18</td>\n",
       "      <td>SEA</td>\n",
       "      <td>NO</td>\n",
       "      <td>SEA</td>\n",
       "      <td>17</td>\n",
       "      <td>...</td>\n",
       "      <td>103.66</td>\n",
       "      <td>17.97</td>\n",
       "      <td>2.74</td>\n",
       "      <td>4.55</td>\n",
       "      <td>0.27</td>\n",
       "      <td>NaN</td>\n",
       "      <td>NaN</td>\n",
       "      <td>None</td>\n",
       "      <td>SEA</td>\n",
       "      <td>7.0</td>\n",
       "    </tr>\n",
       "    <tr>\n",
       "      <th>6891833</th>\n",
       "      <td>2021102500</td>\n",
       "      <td>3945</td>\n",
       "      <td>(1:23) (No Huddle, Shotgun) G.Smith sacked at ...</td>\n",
       "      <td>4</td>\n",
       "      <td>3</td>\n",
       "      <td>18</td>\n",
       "      <td>SEA</td>\n",
       "      <td>NO</td>\n",
       "      <td>SEA</td>\n",
       "      <td>17</td>\n",
       "      <td>...</td>\n",
       "      <td>103.59</td>\n",
       "      <td>17.74</td>\n",
       "      <td>2.22</td>\n",
       "      <td>4.87</td>\n",
       "      <td>0.24</td>\n",
       "      <td>NaN</td>\n",
       "      <td>NaN</td>\n",
       "      <td>None</td>\n",
       "      <td>SEA</td>\n",
       "      <td>7.0</td>\n",
       "    </tr>\n",
       "    <tr>\n",
       "      <th>6891834</th>\n",
       "      <td>2021102500</td>\n",
       "      <td>3945</td>\n",
       "      <td>(1:23) (No Huddle, Shotgun) G.Smith sacked at ...</td>\n",
       "      <td>4</td>\n",
       "      <td>3</td>\n",
       "      <td>18</td>\n",
       "      <td>SEA</td>\n",
       "      <td>NO</td>\n",
       "      <td>SEA</td>\n",
       "      <td>17</td>\n",
       "      <td>...</td>\n",
       "      <td>103.55</td>\n",
       "      <td>17.56</td>\n",
       "      <td>1.68</td>\n",
       "      <td>4.51</td>\n",
       "      <td>0.18</td>\n",
       "      <td>NaN</td>\n",
       "      <td>NaN</td>\n",
       "      <td>None</td>\n",
       "      <td>SEA</td>\n",
       "      <td>7.0</td>\n",
       "    </tr>\n",
       "  </tbody>\n",
       "</table>\n",
       "<p>6891835 rows × 51 columns</p>\n",
       "</div>"
      ],
      "text/plain": [
       "           gameId_x  playId_x  \\\n",
       "0        2021090900        97   \n",
       "1        2021090900        97   \n",
       "2        2021090900        97   \n",
       "3        2021090900        97   \n",
       "4        2021090900        97   \n",
       "...             ...       ...   \n",
       "6891830  2021102500      3945   \n",
       "6891831  2021102500      3945   \n",
       "6891832  2021102500      3945   \n",
       "6891833  2021102500      3945   \n",
       "6891834  2021102500      3945   \n",
       "\n",
       "                                           playDescription  quarter  down  \\\n",
       "0        (13:33) (Shotgun) T.Brady pass incomplete deep...        1     3   \n",
       "1        (13:33) (Shotgun) T.Brady pass incomplete deep...        1     3   \n",
       "2        (13:33) (Shotgun) T.Brady pass incomplete deep...        1     3   \n",
       "3        (13:33) (Shotgun) T.Brady pass incomplete deep...        1     3   \n",
       "4        (13:33) (Shotgun) T.Brady pass incomplete deep...        1     3   \n",
       "...                                                    ...      ...   ...   \n",
       "6891830  (1:23) (No Huddle, Shotgun) G.Smith sacked at ...        4     3   \n",
       "6891831  (1:23) (No Huddle, Shotgun) G.Smith sacked at ...        4     3   \n",
       "6891832  (1:23) (No Huddle, Shotgun) G.Smith sacked at ...        4     3   \n",
       "6891833  (1:23) (No Huddle, Shotgun) G.Smith sacked at ...        4     3   \n",
       "6891834  (1:23) (No Huddle, Shotgun) G.Smith sacked at ...        4     3   \n",
       "\n",
       "         yardsToGo possessionTeam defensiveTeam yardlineSide  yardlineNumber  \\\n",
       "0                2             TB           DAL           TB              33   \n",
       "1                2             TB           DAL           TB              33   \n",
       "2                2             TB           DAL           TB              33   \n",
       "3                2             TB           DAL           TB              33   \n",
       "4                2             TB           DAL           TB              33   \n",
       "...            ...            ...           ...          ...             ...   \n",
       "6891830         18            SEA            NO          SEA              17   \n",
       "6891831         18            SEA            NO          SEA              17   \n",
       "6891832         18            SEA            NO          SEA              17   \n",
       "6891833         18            SEA            NO          SEA              17   \n",
       "6891834         18            SEA            NO          SEA              17   \n",
       "\n",
       "         ...       x      y     s     a   dis       o     dir event  \\\n",
       "0        ...   37.77  24.22  0.29  0.30  0.03  165.16   84.99  None   \n",
       "1        ...   37.78  24.22  0.23  0.11  0.02  164.33   92.87  None   \n",
       "2        ...   37.78  24.24  0.16  0.10  0.01  160.24   68.55  None   \n",
       "3        ...   37.73  24.25  0.15  0.24  0.06  152.13  296.85  None   \n",
       "4        ...   37.69  24.26  0.25  0.18  0.04  148.33  287.55  None   \n",
       "...      ...     ...    ...   ...   ...   ...     ...     ...   ...   \n",
       "6891830  ...  103.84  18.54  4.19  3.60  0.44     NaN     NaN  None   \n",
       "6891831  ...  103.74  18.24  3.39  4.45  0.32     NaN     NaN  None   \n",
       "6891832  ...  103.66  17.97  2.74  4.55  0.27     NaN     NaN  None   \n",
       "6891833  ...  103.59  17.74  2.22  4.87  0.24     NaN     NaN  None   \n",
       "6891834  ...  103.55  17.56  1.68  4.51  0.18     NaN     NaN  None   \n",
       "\n",
       "         homeTeamAbbr ball_snap_frame  \n",
       "0                  TB             6.0  \n",
       "1                  TB             6.0  \n",
       "2                  TB             6.0  \n",
       "3                  TB             6.0  \n",
       "4                  TB             6.0  \n",
       "...               ...             ...  \n",
       "6891830           SEA             7.0  \n",
       "6891831           SEA             7.0  \n",
       "6891832           SEA             7.0  \n",
       "6891833           SEA             7.0  \n",
       "6891834           SEA             7.0  \n",
       "\n",
       "[6891835 rows x 51 columns]"
      ]
     },
     "execution_count": 13,
     "metadata": {},
     "output_type": "execute_result"
    }
   ],
   "source": [
    "locations = locations.merge(snap_time_unique, on = 'uniqueplayId', how = 'left')\n",
    "locations"
   ]
  },
  {
   "cell_type": "code",
   "execution_count": 14,
   "metadata": {},
   "outputs": [],
   "source": [
    "locations = locations[~(locations['frameId'] < locations['ball_snap_frame'])]"
   ]
  },
  {
   "cell_type": "code",
   "execution_count": 15,
   "metadata": {},
   "outputs": [
    {
     "name": "stderr",
     "output_type": "stream",
     "text": [
      "<ipython-input-15-cfefbb3e0bfc>:2: SettingWithCopyWarning: \n",
      "A value is trying to be set on a copy of a slice from a DataFrame.\n",
      "Try using .loc[row_indexer,col_indexer] = value instead\n",
      "\n",
      "See the caveats in the documentation: https://pandas.pydata.org/pandas-docs/stable/user_guide/indexing.html#returning-a-view-versus-a-copy\n",
      "  locations['end_frame'] = locations['ball_snap_frame'] + 30\n"
     ]
    }
   ],
   "source": [
    "## Dropping any frames after 3 seconds \n",
    "locations['end_frame'] = locations['ball_snap_frame'] + 30"
   ]
  },
  {
   "cell_type": "code",
   "execution_count": 16,
   "metadata": {},
   "outputs": [],
   "source": [
    "locations = locations[~(locations['frameId'] > locations['end_frame'])]"
   ]
  },
  {
   "cell_type": "code",
   "execution_count": 17,
   "metadata": {},
   "outputs": [
    {
     "data": {
      "text/plain": [
       "Index(['gameId_x', 'playId_x', 'playDescription', 'quarter', 'down',\n",
       "       'yardsToGo', 'possessionTeam', 'defensiveTeam', 'yardlineSide',\n",
       "       'yardlineNumber', 'gameClock', 'preSnapHomeScore',\n",
       "       'preSnapVisitorScore', 'passResult', 'penaltyYards',\n",
       "       'prePenaltyPlayResult', 'playResult', 'foulName1', 'foulNFLId1',\n",
       "       'foulName2', 'foulNFLId2', 'foulName3', 'foulNFLId3',\n",
       "       'absoluteYardlineNumber', 'offenseFormation', 'personnelO',\n",
       "       'defendersInBox', 'personnelD', 'dropBackType', 'pff_playAction',\n",
       "       'pff_passCoverage', 'pff_passCoverageType', 'uniqueplayId', 'gameId_y',\n",
       "       'playId_y', 'nflId', 'frameId', 'time', 'jerseyNumber', 'team',\n",
       "       'playDirection', 'x', 'y', 's', 'a', 'dis', 'o', 'dir', 'event',\n",
       "       'homeTeamAbbr', 'ball_snap_frame', 'end_frame'],\n",
       "      dtype='object')"
      ]
     },
     "execution_count": 17,
     "metadata": {},
     "output_type": "execute_result"
    }
   ],
   "source": [
    "locations.columns"
   ]
  },
  {
   "cell_type": "code",
   "execution_count": 18,
   "metadata": {},
   "outputs": [],
   "source": [
    "## Dropping columns not using for analysis\n",
    "locations = locations[['gameId_x', 'playId_x', 'quarter', 'down',\n",
    "       'yardsToGo', 'possessionTeam', 'defensiveTeam',\n",
    "       'yardlineNumber', 'gameClock', 'preSnapHomeScore',\n",
    "       'preSnapVisitorScore','homeTeamAbbr',\n",
    "       'absoluteYardlineNumber', 'pff_passCoverage', 'uniqueplayId', 'nflId', 'frameId', 'time', 'team',\n",
    "       'playDirection', 'x', 'y', 's', 'a', 'o', 'event',]]"
   ]
  },
  {
   "cell_type": "code",
   "execution_count": 19,
   "metadata": {},
   "outputs": [],
   "source": [
    "end_time = locations.loc[locations['event'].isin(['pass_forward','autoevent_passforward','qb_sack','qb_strip_sack','handoff'])]\n",
    "end_time = end_time.groupby('uniqueplayId').agg('min').reset_index()"
   ]
  },
  {
   "cell_type": "code",
   "execution_count": 20,
   "metadata": {},
   "outputs": [],
   "source": [
    "end_time['end_frame'] = end_time['frameId']\n",
    "end_time = end_time[['uniqueplayId','end_frame']]"
   ]
  },
  {
   "cell_type": "code",
   "execution_count": 21,
   "metadata": {},
   "outputs": [],
   "source": [
    "locations = locations.merge(end_time, on = 'uniqueplayId', how = 'left')"
   ]
  },
  {
   "cell_type": "code",
   "execution_count": 22,
   "metadata": {},
   "outputs": [],
   "source": [
    "locations['end_frame'] = locations['end_frame'].fillna(100)"
   ]
  },
  {
   "cell_type": "code",
   "execution_count": 23,
   "metadata": {},
   "outputs": [],
   "source": [
    "locations = locations[locations['frameId'] < locations['end_frame']]"
   ]
  },
  {
   "cell_type": "code",
   "execution_count": 24,
   "metadata": {},
   "outputs": [],
   "source": [
    "locations = locations.drop(['gameId_x','playId_x','end_frame'],axis = 1)"
   ]
  },
  {
   "cell_type": "markdown",
   "metadata": {},
   "source": [
    "## Adding Scouting Data "
   ]
  },
  {
   "cell_type": "code",
   "execution_count": 25,
   "metadata": {},
   "outputs": [],
   "source": [
    "pff['uniqueplayId'] = pff['gameId'].astype(str) + pff['playId'].astype(str)\n",
    "pff = pff[['uniqueplayId','nflId','pff_positionLinedUp']]"
   ]
  },
  {
   "cell_type": "code",
   "execution_count": 26,
   "metadata": {},
   "outputs": [],
   "source": [
    "locations = locations.merge(pff, on = ['uniqueplayId','nflId'], how = 'left')\n",
    "locations['pff_positionLinedUp'] = locations['pff_positionLinedUp'].fillna('football')"
   ]
  },
  {
   "cell_type": "code",
   "execution_count": 27,
   "metadata": {},
   "outputs": [],
   "source": [
    "locations['pff_positionLinedUp'] = pd.Categorical(locations['pff_positionLinedUp'], positions)\n",
    "locations = locations.sort_values('pff_positionLinedUp')"
   ]
  },
  {
   "cell_type": "code",
   "execution_count": 28,
   "metadata": {},
   "outputs": [],
   "source": [
    "football = locations.loc[locations['team'] == 'football',\n",
    "                               ['uniqueplayId', 'x', 'y']\n",
    "                               ].rename(columns={'x':'football_x',\n",
    "                                                 'y':'football_y'})\n",
    "locations = football.groupby('uniqueplayId').first().merge(locations, on='uniqueplayId', how='right')"
   ]
  },
  {
   "cell_type": "code",
   "execution_count": 29,
   "metadata": {},
   "outputs": [
    {
     "data": {
      "text/html": [
       "<div>\n",
       "<style scoped>\n",
       "    .dataframe tbody tr th:only-of-type {\n",
       "        vertical-align: middle;\n",
       "    }\n",
       "\n",
       "    .dataframe tbody tr th {\n",
       "        vertical-align: top;\n",
       "    }\n",
       "\n",
       "    .dataframe thead th {\n",
       "        text-align: right;\n",
       "    }\n",
       "</style>\n",
       "<table border=\"1\" class=\"dataframe\">\n",
       "  <thead>\n",
       "    <tr style=\"text-align: right;\">\n",
       "      <th></th>\n",
       "      <th>uniqueplayId</th>\n",
       "      <th>football_x</th>\n",
       "      <th>football_y</th>\n",
       "      <th>quarter</th>\n",
       "      <th>down</th>\n",
       "      <th>yardsToGo</th>\n",
       "      <th>possessionTeam</th>\n",
       "      <th>defensiveTeam</th>\n",
       "      <th>yardlineNumber</th>\n",
       "      <th>gameClock</th>\n",
       "      <th>...</th>\n",
       "      <th>time</th>\n",
       "      <th>team</th>\n",
       "      <th>playDirection</th>\n",
       "      <th>x</th>\n",
       "      <th>y</th>\n",
       "      <th>s</th>\n",
       "      <th>a</th>\n",
       "      <th>o</th>\n",
       "      <th>event</th>\n",
       "      <th>pff_positionLinedUp</th>\n",
       "    </tr>\n",
       "  </thead>\n",
       "  <tbody>\n",
       "    <tr>\n",
       "      <th>4340647</th>\n",
       "      <td>20210919081081</td>\n",
       "      <td>68.2</td>\n",
       "      <td>26.6</td>\n",
       "      <td>2</td>\n",
       "      <td>2</td>\n",
       "      <td>12</td>\n",
       "      <td>LV</td>\n",
       "      <td>PIT</td>\n",
       "      <td>40</td>\n",
       "      <td>11:49</td>\n",
       "      <td>...</td>\n",
       "      <td>2021-09-19 17:47:03</td>\n",
       "      <td>football</td>\n",
       "      <td>right</td>\n",
       "      <td>63.34</td>\n",
       "      <td>26.35</td>\n",
       "      <td>0.74</td>\n",
       "      <td>4.46</td>\n",
       "      <td>NaN</td>\n",
       "      <td>None</td>\n",
       "      <td>football</td>\n",
       "    </tr>\n",
       "    <tr>\n",
       "      <th>4340648</th>\n",
       "      <td>20210919081081</td>\n",
       "      <td>68.2</td>\n",
       "      <td>26.6</td>\n",
       "      <td>2</td>\n",
       "      <td>2</td>\n",
       "      <td>12</td>\n",
       "      <td>LV</td>\n",
       "      <td>PIT</td>\n",
       "      <td>40</td>\n",
       "      <td>11:49</td>\n",
       "      <td>...</td>\n",
       "      <td>2021-09-19 17:47:03</td>\n",
       "      <td>football</td>\n",
       "      <td>right</td>\n",
       "      <td>63.33</td>\n",
       "      <td>26.27</td>\n",
       "      <td>0.82</td>\n",
       "      <td>4.01</td>\n",
       "      <td>NaN</td>\n",
       "      <td>None</td>\n",
       "      <td>football</td>\n",
       "    </tr>\n",
       "    <tr>\n",
       "      <th>4340649</th>\n",
       "      <td>20210919081081</td>\n",
       "      <td>68.2</td>\n",
       "      <td>26.6</td>\n",
       "      <td>2</td>\n",
       "      <td>2</td>\n",
       "      <td>12</td>\n",
       "      <td>LV</td>\n",
       "      <td>PIT</td>\n",
       "      <td>40</td>\n",
       "      <td>11:49</td>\n",
       "      <td>...</td>\n",
       "      <td>2021-09-19 17:47:02</td>\n",
       "      <td>football</td>\n",
       "      <td>right</td>\n",
       "      <td>63.39</td>\n",
       "      <td>26.41</td>\n",
       "      <td>0.89</td>\n",
       "      <td>4.65</td>\n",
       "      <td>NaN</td>\n",
       "      <td>None</td>\n",
       "      <td>football</td>\n",
       "    </tr>\n",
       "    <tr>\n",
       "      <th>4340650</th>\n",
       "      <td>20210919081081</td>\n",
       "      <td>68.2</td>\n",
       "      <td>26.6</td>\n",
       "      <td>2</td>\n",
       "      <td>2</td>\n",
       "      <td>12</td>\n",
       "      <td>LV</td>\n",
       "      <td>PIT</td>\n",
       "      <td>40</td>\n",
       "      <td>11:49</td>\n",
       "      <td>...</td>\n",
       "      <td>2021-09-19 17:47:01</td>\n",
       "      <td>football</td>\n",
       "      <td>right</td>\n",
       "      <td>69.39</td>\n",
       "      <td>26.58</td>\n",
       "      <td>6.11</td>\n",
       "      <td>0.52</td>\n",
       "      <td>NaN</td>\n",
       "      <td>autoevent_ballsnap</td>\n",
       "      <td>football</td>\n",
       "    </tr>\n",
       "    <tr>\n",
       "      <th>4340651</th>\n",
       "      <td>20210919081081</td>\n",
       "      <td>68.2</td>\n",
       "      <td>26.6</td>\n",
       "      <td>2</td>\n",
       "      <td>2</td>\n",
       "      <td>12</td>\n",
       "      <td>LV</td>\n",
       "      <td>PIT</td>\n",
       "      <td>40</td>\n",
       "      <td>11:49</td>\n",
       "      <td>...</td>\n",
       "      <td>2021-09-19 17:47:01</td>\n",
       "      <td>football</td>\n",
       "      <td>right</td>\n",
       "      <td>70.02</td>\n",
       "      <td>26.58</td>\n",
       "      <td>6.14</td>\n",
       "      <td>0.23</td>\n",
       "      <td>NaN</td>\n",
       "      <td>ball_snap</td>\n",
       "      <td>football</td>\n",
       "    </tr>\n",
       "  </tbody>\n",
       "</table>\n",
       "<p>5 rows × 27 columns</p>\n",
       "</div>"
      ],
      "text/plain": [
       "           uniqueplayId  football_x  football_y  quarter  down  yardsToGo  \\\n",
       "4340647  20210919081081        68.2        26.6        2     2         12   \n",
       "4340648  20210919081081        68.2        26.6        2     2         12   \n",
       "4340649  20210919081081        68.2        26.6        2     2         12   \n",
       "4340650  20210919081081        68.2        26.6        2     2         12   \n",
       "4340651  20210919081081        68.2        26.6        2     2         12   \n",
       "\n",
       "        possessionTeam defensiveTeam  yardlineNumber gameClock  ...  \\\n",
       "4340647             LV           PIT              40     11:49  ...   \n",
       "4340648             LV           PIT              40     11:49  ...   \n",
       "4340649             LV           PIT              40     11:49  ...   \n",
       "4340650             LV           PIT              40     11:49  ...   \n",
       "4340651             LV           PIT              40     11:49  ...   \n",
       "\n",
       "                        time      team playDirection      x      y     s  \\\n",
       "4340647  2021-09-19 17:47:03  football         right  63.34  26.35  0.74   \n",
       "4340648  2021-09-19 17:47:03  football         right  63.33  26.27  0.82   \n",
       "4340649  2021-09-19 17:47:02  football         right  63.39  26.41  0.89   \n",
       "4340650  2021-09-19 17:47:01  football         right  69.39  26.58  6.11   \n",
       "4340651  2021-09-19 17:47:01  football         right  70.02  26.58  6.14   \n",
       "\n",
       "            a   o               event pff_positionLinedUp  \n",
       "4340647  4.46 NaN                None            football  \n",
       "4340648  4.01 NaN                None            football  \n",
       "4340649  4.65 NaN                None            football  \n",
       "4340650  0.52 NaN  autoevent_ballsnap            football  \n",
       "4340651  0.23 NaN           ball_snap            football  \n",
       "\n",
       "[5 rows x 27 columns]"
      ]
     },
     "execution_count": 29,
     "metadata": {},
     "output_type": "execute_result"
    }
   ],
   "source": [
    "locations.tail()"
   ]
  },
  {
   "cell_type": "code",
   "execution_count": 30,
   "metadata": {},
   "outputs": [
    {
     "data": {
      "text/plain": [
       "Index(['uniqueplayId', 'football_x', 'football_y', 'quarter', 'down',\n",
       "       'yardsToGo', 'possessionTeam', 'defensiveTeam', 'yardlineNumber',\n",
       "       'gameClock', 'preSnapHomeScore', 'preSnapVisitorScore', 'homeTeamAbbr',\n",
       "       'absoluteYardlineNumber', 'pff_passCoverage', 'nflId', 'frameId',\n",
       "       'time', 'team', 'playDirection', 'x', 'y', 's', 'a', 'o', 'event',\n",
       "       'pff_positionLinedUp'],\n",
       "      dtype='object')"
      ]
     },
     "execution_count": 30,
     "metadata": {},
     "output_type": "execute_result"
    }
   ],
   "source": [
    "locations.columns"
   ]
  },
  {
   "cell_type": "code",
   "execution_count": 31,
   "metadata": {},
   "outputs": [],
   "source": [
    "locations['new_x'] = abs(locations['x']-locations['football_x'])\n",
    "locations['new_y'] = np.where(locations['playDirection']=='right', \n",
    "                                   locations['football_y']-locations['y'],\n",
    "                                   locations['y']-locations['football_y'])"
   ]
  },
  {
   "cell_type": "code",
   "execution_count": 32,
   "metadata": {},
   "outputs": [],
   "source": [
    "locations['Defense'] = np.where(locations['team']== locations['defensiveTeam'], 1, 0)"
   ]
  },
  {
   "cell_type": "code",
   "execution_count": 33,
   "metadata": {},
   "outputs": [],
   "source": [
    "flipped_o = locations.loc[locations['playDirection'] == 'right',['uniqueplayId','nflId','frameId', 'o']]\n",
    "flipped_o['o'] = np.where(flipped_o['o'] > 180,\n",
    "                         flipped_o['o'] - 180,\n",
    "                         360 - flipped_o['o'])"
   ]
  },
  {
   "cell_type": "code",
   "execution_count": 34,
   "metadata": {},
   "outputs": [
    {
     "data": {
      "text/html": [
       "<div>\n",
       "<style scoped>\n",
       "    .dataframe tbody tr th:only-of-type {\n",
       "        vertical-align: middle;\n",
       "    }\n",
       "\n",
       "    .dataframe tbody tr th {\n",
       "        vertical-align: top;\n",
       "    }\n",
       "\n",
       "    .dataframe thead th {\n",
       "        text-align: right;\n",
       "    }\n",
       "</style>\n",
       "<table border=\"1\" class=\"dataframe\">\n",
       "  <thead>\n",
       "    <tr style=\"text-align: right;\">\n",
       "      <th></th>\n",
       "      <th>uniqueplayId</th>\n",
       "      <th>nflId</th>\n",
       "      <th>frameId</th>\n",
       "      <th>o</th>\n",
       "    </tr>\n",
       "  </thead>\n",
       "  <tbody>\n",
       "    <tr>\n",
       "      <th>0</th>\n",
       "      <td>202109090097</td>\n",
       "      <td>25511.0</td>\n",
       "      <td>6</td>\n",
       "      <td>215.58</td>\n",
       "    </tr>\n",
       "    <tr>\n",
       "      <th>1</th>\n",
       "      <td>202109090097</td>\n",
       "      <td>25511.0</td>\n",
       "      <td>31</td>\n",
       "      <td>227.09</td>\n",
       "    </tr>\n",
       "    <tr>\n",
       "      <th>2</th>\n",
       "      <td>202109090097</td>\n",
       "      <td>25511.0</td>\n",
       "      <td>32</td>\n",
       "      <td>232.41</td>\n",
       "    </tr>\n",
       "    <tr>\n",
       "      <th>3</th>\n",
       "      <td>202109090097</td>\n",
       "      <td>25511.0</td>\n",
       "      <td>33</td>\n",
       "      <td>232.41</td>\n",
       "    </tr>\n",
       "    <tr>\n",
       "      <th>4</th>\n",
       "      <td>202109090097</td>\n",
       "      <td>25511.0</td>\n",
       "      <td>34</td>\n",
       "      <td>234.72</td>\n",
       "    </tr>\n",
       "    <tr>\n",
       "      <th>...</th>\n",
       "      <td>...</td>\n",
       "      <td>...</td>\n",
       "      <td>...</td>\n",
       "      <td>...</td>\n",
       "    </tr>\n",
       "    <tr>\n",
       "      <th>4340647</th>\n",
       "      <td>20210919081081</td>\n",
       "      <td>NaN</td>\n",
       "      <td>25</td>\n",
       "      <td>NaN</td>\n",
       "    </tr>\n",
       "    <tr>\n",
       "      <th>4340648</th>\n",
       "      <td>20210919081081</td>\n",
       "      <td>NaN</td>\n",
       "      <td>26</td>\n",
       "      <td>NaN</td>\n",
       "    </tr>\n",
       "    <tr>\n",
       "      <th>4340649</th>\n",
       "      <td>20210919081081</td>\n",
       "      <td>NaN</td>\n",
       "      <td>24</td>\n",
       "      <td>NaN</td>\n",
       "    </tr>\n",
       "    <tr>\n",
       "      <th>4340650</th>\n",
       "      <td>20210919081081</td>\n",
       "      <td>NaN</td>\n",
       "      <td>7</td>\n",
       "      <td>NaN</td>\n",
       "    </tr>\n",
       "    <tr>\n",
       "      <th>4340651</th>\n",
       "      <td>20210919081081</td>\n",
       "      <td>NaN</td>\n",
       "      <td>6</td>\n",
       "      <td>NaN</td>\n",
       "    </tr>\n",
       "  </tbody>\n",
       "</table>\n",
       "<p>2113976 rows × 4 columns</p>\n",
       "</div>"
      ],
      "text/plain": [
       "           uniqueplayId    nflId  frameId       o\n",
       "0          202109090097  25511.0        6  215.58\n",
       "1          202109090097  25511.0       31  227.09\n",
       "2          202109090097  25511.0       32  232.41\n",
       "3          202109090097  25511.0       33  232.41\n",
       "4          202109090097  25511.0       34  234.72\n",
       "...                 ...      ...      ...     ...\n",
       "4340647  20210919081081      NaN       25     NaN\n",
       "4340648  20210919081081      NaN       26     NaN\n",
       "4340649  20210919081081      NaN       24     NaN\n",
       "4340650  20210919081081      NaN        7     NaN\n",
       "4340651  20210919081081      NaN        6     NaN\n",
       "\n",
       "[2113976 rows x 4 columns]"
      ]
     },
     "execution_count": 34,
     "metadata": {},
     "output_type": "execute_result"
    }
   ],
   "source": [
    "flipped_o"
   ]
  },
  {
   "cell_type": "code",
   "execution_count": 35,
   "metadata": {},
   "outputs": [],
   "source": [
    "locations.update(flipped_o)"
   ]
  },
  {
   "cell_type": "code",
   "execution_count": 36,
   "metadata": {},
   "outputs": [
    {
     "data": {
      "text/plain": [
       "Index(['uniqueplayId', 'football_x', 'football_y', 'quarter', 'down',\n",
       "       'yardsToGo', 'possessionTeam', 'defensiveTeam', 'yardlineNumber',\n",
       "       'gameClock', 'preSnapHomeScore', 'preSnapVisitorScore', 'homeTeamAbbr',\n",
       "       'absoluteYardlineNumber', 'pff_passCoverage', 'nflId', 'frameId',\n",
       "       'time', 'team', 'playDirection', 'x', 'y', 's', 'a', 'o', 'event',\n",
       "       'pff_positionLinedUp', 'new_x', 'new_y', 'Defense'],\n",
       "      dtype='object')"
      ]
     },
     "execution_count": 36,
     "metadata": {},
     "output_type": "execute_result"
    }
   ],
   "source": [
    "locations.columns"
   ]
  },
  {
   "cell_type": "code",
   "execution_count": 37,
   "metadata": {},
   "outputs": [],
   "source": [
    "locations['score_d'] = locations['preSnapHomeScore'] - locations['preSnapVisitorScore']"
   ]
  },
  {
   "cell_type": "code",
   "execution_count": 38,
   "metadata": {},
   "outputs": [],
   "source": [
    "locations['score_d'] = np.where(locations['defensiveTeam'] == locations['homeTeamAbbr'], locations['score_d'] * 1, locations['score_d'] * -1)"
   ]
  },
  {
   "cell_type": "code",
   "execution_count": 39,
   "metadata": {},
   "outputs": [],
   "source": [
    "locations = locations.dropna(subset = ['absoluteYardlineNumber'], axis=0)"
   ]
  },
  {
   "cell_type": "markdown",
   "metadata": {},
   "source": [
    "# Adjancency/Edge Matrices"
   ]
  },
  {
   "cell_type": "code",
   "execution_count": 65,
   "metadata": {},
   "outputs": [],
   "source": [
    "## Attempting to get the adjacency matrices for all plays\n",
    "from scipy.spatial.distance import cdist\n",
    "all_plays  = locations[['nflId','frameId','uniqueplayId','new_x','new_y']].set_index(['nflId','frameId','uniqueplayId'])\n",
    "dis_matrices = all_plays.groupby(['uniqueplayId','frameId']).apply(lambda x: cdist(x,x,'euclidean'))"
   ]
  },
  {
   "cell_type": "code",
   "execution_count": 66,
   "metadata": {},
   "outputs": [],
   "source": [
    "binary_adj = dis_matrices.copy()\n",
    "for frame in range(len(binary_adj)):\n",
    "  binary_adj[frame] = (binary_adj[frame] < 15).astype(int)"
   ]
  },
  {
   "cell_type": "code",
   "execution_count": 67,
   "metadata": {},
   "outputs": [],
   "source": [
    "edge_features = dis_matrices.copy()\n",
    "for frame in range(len(edge_features)):\n",
    "    edge_features[frame] = np.array([-13*(xi) + 131.0 for xi in edge_features[frame]])"
   ]
  },
  {
   "cell_type": "code",
   "execution_count": 68,
   "metadata": {},
   "outputs": [
    {
     "data": {
      "text/plain": [
       "Index(['uniqueplayId', 'football_x', 'football_y', 'quarter', 'down',\n",
       "       'yardsToGo', 'possessionTeam', 'defensiveTeam', 'yardlineNumber',\n",
       "       'gameClock', 'preSnapHomeScore', 'preSnapVisitorScore', 'homeTeamAbbr',\n",
       "       'absoluteYardlineNumber', 'pff_passCoverage', 'nflId', 'frameId',\n",
       "       'time', 'team', 'playDirection', 'x', 'y', 's', 'a', 'o', 'event',\n",
       "       'pff_positionLinedUp', 'new_x', 'new_y', 'Defense', 'score_d',\n",
       "       'frames_after_snap'],\n",
       "      dtype='object')"
      ]
     },
     "execution_count": 68,
     "metadata": {},
     "output_type": "execute_result"
    }
   ],
   "source": [
    "locations.columns"
   ]
  },
  {
   "cell_type": "code",
   "execution_count": 69,
   "metadata": {},
   "outputs": [],
   "source": [
    "locations['nflId'] = locations['nflId'].fillna('football')"
   ]
  },
  {
   "cell_type": "code",
   "execution_count": 70,
   "metadata": {},
   "outputs": [],
   "source": [
    "locations['frames_after_snap'] = locations.groupby(['uniqueplayId', 'nflId']).cumcount()"
   ]
  },
  {
   "cell_type": "code",
   "execution_count": 71,
   "metadata": {},
   "outputs": [],
   "source": [
    "locations = locations[~(locations['frames_after_snap'] > 30)]"
   ]
  },
  {
   "cell_type": "code",
   "execution_count": 72,
   "metadata": {},
   "outputs": [
    {
     "data": {
      "text/plain": [
       "0     163116\n",
       "1     163116\n",
       "2     163116\n",
       "3     163116\n",
       "4     163116\n",
       "5     163116\n",
       "6     163093\n",
       "7     163093\n",
       "8     163093\n",
       "9     163070\n",
       "10    163024\n",
       "11    162909\n",
       "12    162863\n",
       "13    162587\n",
       "14    162104\n",
       "15    160931\n",
       "16    158953\n",
       "17    155572\n",
       "18    150834\n",
       "19    145038\n",
       "20    138506\n",
       "21    132388\n",
       "22    125649\n",
       "23    117898\n",
       "24    109825\n",
       "25    101361\n",
       "26     93840\n",
       "27     85606\n",
       "28     78798\n",
       "29     71645\n",
       "30     65642\n",
       "Name: frames_after_snap, dtype: int64"
      ]
     },
     "execution_count": 72,
     "metadata": {},
     "output_type": "execute_result"
    }
   ],
   "source": [
    "locations['frames_after_snap'].value_counts()"
   ]
  },
  {
   "cell_type": "code",
   "execution_count": 73,
   "metadata": {},
   "outputs": [],
   "source": [
    "node_features = locations[['uniqueplayId', 'quarter',\n",
    "       'down', 'yardsToGo', 'defensiveTeam',\n",
    "        'absoluteYardlineNumber','nflId', \n",
    "        'frameId', 's', 'o', 'new_x', 'new_y', 'Defense',\n",
    "       'score_d','frames_after_snap']].set_index(['uniqueplayId','frameId','nflId'])"
   ]
  },
  {
   "cell_type": "code",
   "execution_count": 74,
   "metadata": {},
   "outputs": [],
   "source": [
    "teams = {'DAL':1, 'TB':2, 'PHI':3, 'ATL':4, 'PIT':5, 'BUF':6, 'CAR':7, 'NYJ':8, 'CIN':9,\n",
    "       'MIN':10, 'SF':11, 'DET':12, 'JAX':13, 'HOU':14, 'SEA':15, 'IND':16, 'ARI':17, 'TEN':18,\n",
    "       'WAS':19, 'LAC':20, 'KC':21, 'CLE':22, 'MIA':23, 'NE':24, 'GB':25, 'NO':26, 'DEN':27, 'NYG':28,\n",
    "       'LA':29, 'CHI':30, 'BAL':31, 'LV':32}\n",
    "\n",
    "node_features['defensiveTeam'] = node_features.replace({\"defensiveTeam\": teams})"
   ]
  },
  {
   "cell_type": "code",
   "execution_count": 75,
   "metadata": {},
   "outputs": [],
   "source": [
    "node_features['o'] = node_features['o'].fillna(0)"
   ]
  },
  {
   "cell_type": "code",
   "execution_count": 76,
   "metadata": {},
   "outputs": [
    {
     "data": {
      "text/html": [
       "<div>\n",
       "<style scoped>\n",
       "    .dataframe tbody tr th:only-of-type {\n",
       "        vertical-align: middle;\n",
       "    }\n",
       "\n",
       "    .dataframe tbody tr th {\n",
       "        vertical-align: top;\n",
       "    }\n",
       "\n",
       "    .dataframe thead th {\n",
       "        text-align: right;\n",
       "    }\n",
       "</style>\n",
       "<table border=\"1\" class=\"dataframe\">\n",
       "  <thead>\n",
       "    <tr style=\"text-align: right;\">\n",
       "      <th></th>\n",
       "      <th></th>\n",
       "      <th></th>\n",
       "      <th>quarter</th>\n",
       "      <th>down</th>\n",
       "      <th>yardsToGo</th>\n",
       "      <th>defensiveTeam</th>\n",
       "      <th>absoluteYardlineNumber</th>\n",
       "      <th>s</th>\n",
       "      <th>o</th>\n",
       "      <th>new_x</th>\n",
       "      <th>new_y</th>\n",
       "      <th>Defense</th>\n",
       "      <th>score_d</th>\n",
       "      <th>frames_after_snap</th>\n",
       "    </tr>\n",
       "    <tr>\n",
       "      <th>uniqueplayId</th>\n",
       "      <th>frameId</th>\n",
       "      <th>nflId</th>\n",
       "      <th></th>\n",
       "      <th></th>\n",
       "      <th></th>\n",
       "      <th></th>\n",
       "      <th></th>\n",
       "      <th></th>\n",
       "      <th></th>\n",
       "      <th></th>\n",
       "      <th></th>\n",
       "      <th></th>\n",
       "      <th></th>\n",
       "      <th></th>\n",
       "    </tr>\n",
       "  </thead>\n",
       "  <tbody>\n",
       "    <tr>\n",
       "      <th rowspan=\"10\" valign=\"top\">202109090097</th>\n",
       "      <th>6.0</th>\n",
       "      <th>25511.0</th>\n",
       "      <td>1</td>\n",
       "      <td>3</td>\n",
       "      <td>2</td>\n",
       "      <td>1.0</td>\n",
       "      <td>43.0</td>\n",
       "      <td>0.35</td>\n",
       "      <td>215.58</td>\n",
       "      <td>1.38</td>\n",
       "      <td>-0.27</td>\n",
       "      <td>0</td>\n",
       "      <td>0</td>\n",
       "      <td>0</td>\n",
       "    </tr>\n",
       "    <tr>\n",
       "      <th>31.0</th>\n",
       "      <th>25511.0</th>\n",
       "      <td>1</td>\n",
       "      <td>3</td>\n",
       "      <td>2</td>\n",
       "      <td>1.0</td>\n",
       "      <td>43.0</td>\n",
       "      <td>1.90</td>\n",
       "      <td>227.09</td>\n",
       "      <td>2.58</td>\n",
       "      <td>0.71</td>\n",
       "      <td>0</td>\n",
       "      <td>0</td>\n",
       "      <td>1</td>\n",
       "    </tr>\n",
       "    <tr>\n",
       "      <th>32.0</th>\n",
       "      <th>25511.0</th>\n",
       "      <td>1</td>\n",
       "      <td>3</td>\n",
       "      <td>2</td>\n",
       "      <td>1.0</td>\n",
       "      <td>43.0</td>\n",
       "      <td>2.18</td>\n",
       "      <td>232.41</td>\n",
       "      <td>2.66</td>\n",
       "      <td>0.90</td>\n",
       "      <td>0</td>\n",
       "      <td>0</td>\n",
       "      <td>2</td>\n",
       "    </tr>\n",
       "    <tr>\n",
       "      <th>33.0</th>\n",
       "      <th>25511.0</th>\n",
       "      <td>1</td>\n",
       "      <td>3</td>\n",
       "      <td>2</td>\n",
       "      <td>1.0</td>\n",
       "      <td>43.0</td>\n",
       "      <td>2.59</td>\n",
       "      <td>232.41</td>\n",
       "      <td>2.73</td>\n",
       "      <td>1.14</td>\n",
       "      <td>0</td>\n",
       "      <td>0</td>\n",
       "      <td>3</td>\n",
       "    </tr>\n",
       "    <tr>\n",
       "      <th>34.0</th>\n",
       "      <th>25511.0</th>\n",
       "      <td>1</td>\n",
       "      <td>3</td>\n",
       "      <td>2</td>\n",
       "      <td>1.0</td>\n",
       "      <td>43.0</td>\n",
       "      <td>2.93</td>\n",
       "      <td>234.72</td>\n",
       "      <td>2.82</td>\n",
       "      <td>1.41</td>\n",
       "      <td>0</td>\n",
       "      <td>0</td>\n",
       "      <td>4</td>\n",
       "    </tr>\n",
       "    <tr>\n",
       "      <th>35.0</th>\n",
       "      <th>25511.0</th>\n",
       "      <td>1</td>\n",
       "      <td>3</td>\n",
       "      <td>2</td>\n",
       "      <td>1.0</td>\n",
       "      <td>43.0</td>\n",
       "      <td>3.41</td>\n",
       "      <td>240.80</td>\n",
       "      <td>2.93</td>\n",
       "      <td>1.74</td>\n",
       "      <td>0</td>\n",
       "      <td>0</td>\n",
       "      <td>5</td>\n",
       "    </tr>\n",
       "    <tr>\n",
       "      <th>36.0</th>\n",
       "      <th>25511.0</th>\n",
       "      <td>1</td>\n",
       "      <td>3</td>\n",
       "      <td>2</td>\n",
       "      <td>1.0</td>\n",
       "      <td>43.0</td>\n",
       "      <td>3.64</td>\n",
       "      <td>249.54</td>\n",
       "      <td>3.05</td>\n",
       "      <td>2.07</td>\n",
       "      <td>0</td>\n",
       "      <td>0</td>\n",
       "      <td>6</td>\n",
       "    </tr>\n",
       "    <tr>\n",
       "      <th>30.0</th>\n",
       "      <th>25511.0</th>\n",
       "      <td>1</td>\n",
       "      <td>3</td>\n",
       "      <td>2</td>\n",
       "      <td>1.0</td>\n",
       "      <td>43.0</td>\n",
       "      <td>1.73</td>\n",
       "      <td>221.76</td>\n",
       "      <td>2.49</td>\n",
       "      <td>0.56</td>\n",
       "      <td>0</td>\n",
       "      <td>0</td>\n",
       "      <td>7</td>\n",
       "    </tr>\n",
       "    <tr>\n",
       "      <th>29.0</th>\n",
       "      <th>25511.0</th>\n",
       "      <td>1</td>\n",
       "      <td>3</td>\n",
       "      <td>2</td>\n",
       "      <td>1.0</td>\n",
       "      <td>43.0</td>\n",
       "      <td>1.42</td>\n",
       "      <td>218.29</td>\n",
       "      <td>2.40</td>\n",
       "      <td>0.39</td>\n",
       "      <td>0</td>\n",
       "      <td>0</td>\n",
       "      <td>8</td>\n",
       "    </tr>\n",
       "    <tr>\n",
       "      <th>28.0</th>\n",
       "      <th>25511.0</th>\n",
       "      <td>1</td>\n",
       "      <td>3</td>\n",
       "      <td>2</td>\n",
       "      <td>1.0</td>\n",
       "      <td>43.0</td>\n",
       "      <td>1.36</td>\n",
       "      <td>213.85</td>\n",
       "      <td>2.29</td>\n",
       "      <td>0.29</td>\n",
       "      <td>0</td>\n",
       "      <td>0</td>\n",
       "      <td>9</td>\n",
       "    </tr>\n",
       "  </tbody>\n",
       "</table>\n",
       "</div>"
      ],
      "text/plain": [
       "                              quarter  down  yardsToGo  defensiveTeam  \\\n",
       "uniqueplayId frameId nflId                                              \n",
       "202109090097 6.0     25511.0        1     3          2            1.0   \n",
       "             31.0    25511.0        1     3          2            1.0   \n",
       "             32.0    25511.0        1     3          2            1.0   \n",
       "             33.0    25511.0        1     3          2            1.0   \n",
       "             34.0    25511.0        1     3          2            1.0   \n",
       "             35.0    25511.0        1     3          2            1.0   \n",
       "             36.0    25511.0        1     3          2            1.0   \n",
       "             30.0    25511.0        1     3          2            1.0   \n",
       "             29.0    25511.0        1     3          2            1.0   \n",
       "             28.0    25511.0        1     3          2            1.0   \n",
       "\n",
       "                              absoluteYardlineNumber     s       o  new_x  \\\n",
       "uniqueplayId frameId nflId                                                  \n",
       "202109090097 6.0     25511.0                    43.0  0.35  215.58   1.38   \n",
       "             31.0    25511.0                    43.0  1.90  227.09   2.58   \n",
       "             32.0    25511.0                    43.0  2.18  232.41   2.66   \n",
       "             33.0    25511.0                    43.0  2.59  232.41   2.73   \n",
       "             34.0    25511.0                    43.0  2.93  234.72   2.82   \n",
       "             35.0    25511.0                    43.0  3.41  240.80   2.93   \n",
       "             36.0    25511.0                    43.0  3.64  249.54   3.05   \n",
       "             30.0    25511.0                    43.0  1.73  221.76   2.49   \n",
       "             29.0    25511.0                    43.0  1.42  218.29   2.40   \n",
       "             28.0    25511.0                    43.0  1.36  213.85   2.29   \n",
       "\n",
       "                              new_y  Defense  score_d  frames_after_snap  \n",
       "uniqueplayId frameId nflId                                                \n",
       "202109090097 6.0     25511.0  -0.27        0        0                  0  \n",
       "             31.0    25511.0   0.71        0        0                  1  \n",
       "             32.0    25511.0   0.90        0        0                  2  \n",
       "             33.0    25511.0   1.14        0        0                  3  \n",
       "             34.0    25511.0   1.41        0        0                  4  \n",
       "             35.0    25511.0   1.74        0        0                  5  \n",
       "             36.0    25511.0   2.07        0        0                  6  \n",
       "             30.0    25511.0   0.56        0        0                  7  \n",
       "             29.0    25511.0   0.39        0        0                  8  \n",
       "             28.0    25511.0   0.29        0        0                  9  "
      ]
     },
     "execution_count": 76,
     "metadata": {},
     "output_type": "execute_result"
    }
   ],
   "source": [
    "node_features[:10]"
   ]
  },
  {
   "cell_type": "code",
   "execution_count": 77,
   "metadata": {},
   "outputs": [],
   "source": [
    "y = locations[['uniqueplayId','frameId','nflId','pff_passCoverage']].set_index(['uniqueplayId','frameId','nflId'])"
   ]
  },
  {
   "cell_type": "code",
   "execution_count": 78,
   "metadata": {},
   "outputs": [],
   "source": [
    "values = {'Cover-0': 0, 'Cover-1': 1, 'Cover-2': 2, 'Cover-3': 3, 'Quarters': 4, '2-Man': 5 ,'Cover-6': 6}\n",
    "y = y.replace({\"pff_passCoverage\": values})"
   ]
  },
  {
   "cell_type": "code",
   "execution_count": 79,
   "metadata": {},
   "outputs": [],
   "source": [
    "enc = OneHotEncoder()\n",
    "new_y = enc.fit_transform(y)\n",
    "y = pd.DataFrame.sparse.from_spmatrix(new_y).set_index(y.index)"
   ]
  },
  {
   "cell_type": "code",
   "execution_count": 80,
   "metadata": {},
   "outputs": [],
   "source": [
    "binary_adj.to_pickle('adj_mat.pkl')"
   ]
  },
  {
   "cell_type": "code",
   "execution_count": 81,
   "metadata": {},
   "outputs": [],
   "source": [
    "edge_features.to_pickle('edge_features.pkl')"
   ]
  },
  {
   "cell_type": "code",
   "execution_count": 82,
   "metadata": {},
   "outputs": [],
   "source": [
    "node_features.to_pickle('node_features.pkl')"
   ]
  },
  {
   "cell_type": "code",
   "execution_count": 83,
   "metadata": {},
   "outputs": [],
   "source": [
    "node_features = pd.read_pickle('node_features.pkl')"
   ]
  },
  {
   "cell_type": "code",
   "execution_count": 84,
   "metadata": {},
   "outputs": [],
   "source": [
    "node_features = node_features.drop('defensiveTeam', axis = 1)"
   ]
  },
  {
   "cell_type": "code",
   "execution_count": 85,
   "metadata": {},
   "outputs": [],
   "source": [
    "node_features = (node_features-node_features.mean())/node_features.std()"
   ]
  },
  {
   "cell_type": "code",
   "execution_count": 86,
   "metadata": {},
   "outputs": [],
   "source": [
    "node_features.to_pickle('node_features.pkl')"
   ]
  },
  {
   "cell_type": "code",
   "execution_count": 87,
   "metadata": {},
   "outputs": [],
   "source": [
    "y = y.groupby(['uniqueplayId', 'frameId']).nth(0)"
   ]
  },
  {
   "cell_type": "code",
   "execution_count": 88,
   "metadata": {},
   "outputs": [],
   "source": [
    "y.to_pickle('y.pkl')"
   ]
  },
  {
   "cell_type": "code",
   "execution_count": 89,
   "metadata": {},
   "outputs": [],
   "source": [
    "edge_features = pd.read_pickle('edge_features.pkl')"
   ]
  },
  {
   "cell_type": "code",
   "execution_count": 90,
   "metadata": {},
   "outputs": [],
   "source": [
    "def normalize_2d(matrix):\n",
    "    norm = np.linalg.norm(matrix)\n",
    "    matrix = matrix/norm  # normalized matrix\n",
    "    return matrix"
   ]
  },
  {
   "cell_type": "code",
   "execution_count": 91,
   "metadata": {},
   "outputs": [],
   "source": [
    "for i in range(len(edge_features)):\n",
    "    edge_features[i] = normalize_2d(edge_features[i])"
   ]
  },
  {
   "cell_type": "code",
   "execution_count": 92,
   "metadata": {},
   "outputs": [],
   "source": [
    "edge_features.to_pickle('edge_features.pkl')"
   ]
  },
  {
   "cell_type": "markdown",
   "metadata": {},
   "source": [
    "## Making a simple GNN"
   ]
  },
  {
   "cell_type": "code",
   "execution_count": 93,
   "metadata": {},
   "outputs": [],
   "source": [
    "import pandas as pd"
   ]
  },
  {
   "cell_type": "code",
   "execution_count": 94,
   "metadata": {},
   "outputs": [],
   "source": [
    "node_features = pd.read_pickle('node_features.pkl')"
   ]
  },
  {
   "cell_type": "code",
   "execution_count": 95,
   "metadata": {},
   "outputs": [],
   "source": [
    "simple_nodes = node_features[['new_x', 'new_y', 'Defense', 'o','score_d','frames_after_snap']]"
   ]
  },
  {
   "cell_type": "code",
   "execution_count": 96,
   "metadata": {},
   "outputs": [],
   "source": [
    "simple_nodes.to_pickle('simple_nodes.pkl')"
   ]
  },
  {
   "cell_type": "code",
   "execution_count": null,
   "metadata": {},
   "outputs": [],
   "source": []
  }
 ],
 "metadata": {
  "colab": {
   "provenance": []
  },
  "kernelspec": {
   "display_name": "Python 3",
   "language": "python",
   "name": "python3"
  },
  "language_info": {
   "codemirror_mode": {
    "name": "ipython",
    "version": 3
   },
   "file_extension": ".py",
   "mimetype": "text/x-python",
   "name": "python",
   "nbconvert_exporter": "python",
   "pygments_lexer": "ipython3",
   "version": "3.8.8"
  }
 },
 "nbformat": 4,
 "nbformat_minor": 4
}
